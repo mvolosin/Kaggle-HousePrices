{
 "cells": [
  {
   "cell_type": "code",
   "execution_count": 1,
   "id": "8ca354cb",
   "metadata": {
    "_cell_guid": "b1076dfc-b9ad-4769-8c92-a6c4dae69d19",
    "_uuid": "8f2839f25d086af736a60e9eeb907d3b93b6e0e5",
    "execution": {
     "iopub.execute_input": "2022-08-16T03:41:11.402520Z",
     "iopub.status.busy": "2022-08-16T03:41:11.401738Z",
     "iopub.status.idle": "2022-08-16T03:41:12.817086Z",
     "shell.execute_reply": "2022-08-16T03:41:12.815555Z"
    },
    "papermill": {
     "duration": 1.425024,
     "end_time": "2022-08-16T03:41:12.820853",
     "exception": false,
     "start_time": "2022-08-16T03:41:11.395829",
     "status": "completed"
    },
    "tags": []
   },
   "outputs": [
    {
     "name": "stdout",
     "output_type": "stream",
     "text": [
      "/kaggle/input/house-prices-advanced-regression-techniques/sample_submission.csv\n",
      "/kaggle/input/house-prices-advanced-regression-techniques/data_description.txt\n",
      "/kaggle/input/house-prices-advanced-regression-techniques/train.csv\n",
      "/kaggle/input/house-prices-advanced-regression-techniques/test.csv\n",
      "/kaggle/input/houseprices/train.csv\n",
      "/kaggle/input/houseprices/test.csv\n"
     ]
    }
   ],
   "source": [
    "# This Python 3 environment comes with many helpful analytics libraries installed\n",
    "# It is defined by the kaggle/python Docker image: https://github.com/kaggle/docker-python\n",
    "# For example, here's several helpful packages to load\n",
    "\n",
    "import numpy as np # linear algebra\n",
    "import pandas as pd # data processing, CSV file I/O (e.g. pd.read_csv)\n",
    "from sklearn.linear_model import LinearRegression\n",
    "\n",
    "\n",
    "# Input data files are available in the read-only \"../input/\" directory\n",
    "# For example, running this (by clicking run or pressing Shift+Enter) will list all files under the input directory\n",
    "\n",
    "import os\n",
    "for dirname, _, filenames in os.walk('/kaggle/input'):\n",
    "    for filename in filenames:\n",
    "        print(os.path.join(dirname, filename))\n",
    "\n",
    "# You can write up to 20GB to the current directory (/kaggle/working/) that gets preserved as output when you create a version using \"Save & Run All\" \n",
    "# You can also write temporary files to /kaggle/temp/, but they won't be saved outside of the current session"
   ]
  },
  {
   "cell_type": "code",
   "execution_count": 2,
   "id": "c6f86b28",
   "metadata": {
    "execution": {
     "iopub.execute_input": "2022-08-16T03:41:12.829190Z",
     "iopub.status.busy": "2022-08-16T03:41:12.827960Z",
     "iopub.status.idle": "2022-08-16T03:41:12.859242Z",
     "shell.execute_reply": "2022-08-16T03:41:12.857233Z"
    },
    "papermill": {
     "duration": 0.038328,
     "end_time": "2022-08-16T03:41:12.862475",
     "exception": false,
     "start_time": "2022-08-16T03:41:12.824147",
     "status": "completed"
    },
    "tags": []
   },
   "outputs": [
    {
     "name": "stdout",
     "output_type": "stream",
     "text": [
      "[1. 2.]\n",
      "3.0000000000000018\n",
      "[16.]\n"
     ]
    }
   ],
   "source": [
    "X = np.array([[1, 1], [1, 2], [2, 2], [2, 3]])\n",
    "# y = 1 * x_0 + 2 * x_1 + 3\n",
    "y = np.dot(X, np.array([1, 2])) + 3\n",
    "reg = LinearRegression().fit(X, y)\n",
    "reg.score(X, y)\n",
    "\n",
    "print(reg.coef_)\n",
    "\n",
    "print(reg.intercept_)\n",
    "\n",
    "print(reg.predict(np.array([[3, 5]])))"
   ]
  },
  {
   "cell_type": "code",
   "execution_count": 3,
   "id": "a2cfe101",
   "metadata": {
    "execution": {
     "iopub.execute_input": "2022-08-16T03:41:12.869403Z",
     "iopub.status.busy": "2022-08-16T03:41:12.868929Z",
     "iopub.status.idle": "2022-08-16T03:41:12.874134Z",
     "shell.execute_reply": "2022-08-16T03:41:12.872655Z"
    },
    "papermill": {
     "duration": 0.011621,
     "end_time": "2022-08-16T03:41:12.876576",
     "exception": false,
     "start_time": "2022-08-16T03:41:12.864955",
     "status": "completed"
    },
    "tags": []
   },
   "outputs": [],
   "source": [
    "\n",
    "# Path of the file to read\n",
    "#data_file = pd.read_csv('')\n",
    "\n",
    "# Fill in the line below to read the file into a variable museum_data\n",
    "#prices_data = pd.read_csv(data_file, index_col=\"Id\", parse_dates=True)\n",
    "#prices_data.head()"
   ]
  }
 ],
 "metadata": {
  "kernelspec": {
   "display_name": "Python 3",
   "language": "python",
   "name": "python3"
  },
  "language_info": {
   "codemirror_mode": {
    "name": "ipython",
    "version": 3
   },
   "file_extension": ".py",
   "mimetype": "text/x-python",
   "name": "python",
   "nbconvert_exporter": "python",
   "pygments_lexer": "ipython3",
   "version": "3.7.12"
  },
  "papermill": {
   "default_parameters": {},
   "duration": 12.644786,
   "end_time": "2022-08-16T03:41:13.904149",
   "environment_variables": {},
   "exception": null,
   "input_path": "__notebook__.ipynb",
   "output_path": "__notebook__.ipynb",
   "parameters": {},
   "start_time": "2022-08-16T03:41:01.259363",
   "version": "2.3.4"
  }
 },
 "nbformat": 4,
 "nbformat_minor": 5
}
